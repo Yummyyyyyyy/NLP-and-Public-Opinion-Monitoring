{
 "cells": [
  {
   "cell_type": "markdown",
   "id": "34e13b94",
   "metadata": {},
   "source": [
    "# Parts of Speech Tagging"
   ]
  },
  {
   "cell_type": "code",
   "execution_count": 1,
   "id": "6f0f67d8",
   "metadata": {},
   "outputs": [],
   "source": [
    "import spacy\n",
    "nlp=spacy.load('en_core_web_sm')"
   ]
  },
  {
   "cell_type": "code",
   "execution_count": 2,
   "id": "8ca7d248",
   "metadata": {},
   "outputs": [],
   "source": [
    "doc= nlp(u\"Apple is looking at buying a U.K. startup for &1 Billion.\")"
   ]
  },
  {
   "cell_type": "code",
   "execution_count": 3,
   "id": "2a4212bf",
   "metadata": {},
   "outputs": [
    {
     "data": {
      "text/plain": [
       "'Apple is looking at buying a U.K. startup for &1 Billion.'"
      ]
     },
     "execution_count": 3,
     "metadata": {},
     "output_type": "execute_result"
    }
   ],
   "source": [
    "doc.text"
   ]
  },
  {
   "cell_type": "code",
   "execution_count": 9,
   "id": "4bff8bd9",
   "metadata": {},
   "outputs": [
    {
     "name": "stdout",
     "output_type": "stream",
     "text": [
      "Apple     PROPN   NNP   nsubj     noun, proper singular\n",
      "is        VERB    VBZ   aux       verb, 3rd person singular present\n",
      "looking   VERB    VBG   ROOT      verb, gerund or present participle\n",
      "at        ADP     IN    prep      conjunction, subordinating or preposition\n",
      "buying    VERB    VBG   pcomp     verb, gerund or present participle\n",
      "a         DET     DT    det       determiner\n",
      "U.K.      PROPN   NNP   compound  noun, proper singular\n",
      "startup   NOUN    NN    dobj      noun, singular or mass\n",
      "for       ADP     IN    prep      conjunction, subordinating or preposition\n",
      "&         CCONJ   CC    cc        conjunction, coordinating\n",
      "1         NUM     CD    compound  cardinal number\n",
      "Billion   NUM     CD    conj      cardinal number\n",
      ".         PUNCT   .     punct     punctuation mark, sentence closer\n"
     ]
    }
   ],
   "source": [
    "for token in doc:\n",
    "    print(f'{token.text:{10}}{token.pos_:{8}}{token.tag_:{6}}{token.dep_:{10}}{spacy.explain(token.tag_):{10}}')"
   ]
  },
  {
   "cell_type": "markdown",
   "id": "9cd35ab3",
   "metadata": {},
   "source": [
    "**By looking at the sentence, spacy find out the past tense**"
   ]
  },
  {
   "cell_type": "code",
   "execution_count": 10,
   "id": "f0003a61",
   "metadata": {},
   "outputs": [
    {
     "name": "stdout",
     "output_type": "stream",
     "text": [
      "I         PRON    PRP   pronoun, personal\n",
      "read      VERB    VBP   verb, non-3rd person singular present\n",
      "books     NOUN    NNS   noun, plural\n",
      "on        ADP     IN    conjunction, subordinating or preposition\n",
      "NLP       PROPN   NNP   noun, proper singular\n",
      ".         PUNCT   .     punctuation mark, sentence closer\n"
     ]
    }
   ],
   "source": [
    "doc=nlp(u\"I read books on NLP.\")\n",
    "for token in doc:\n",
    "    print(f'{token.text:{10}}{token.pos_:{8}}{token.tag_:{6}}{spacy.explain(token.tag_):{10}}')"
   ]
  },
  {
   "cell_type": "code",
   "execution_count": 12,
   "id": "169f3f5f",
   "metadata": {},
   "outputs": [
    {
     "name": "stdout",
     "output_type": "stream",
     "text": [
      "I         PRON    PRP   pronoun, personal\n",
      "read      VERB    VBD   verb, past tense\n",
      "a         DET     DT    determiner\n",
      "book      NOUN    NN    noun, singular or mass\n",
      "on        ADP     IN    conjunction, subordinating or preposition\n",
      "NLP       PROPN   NNP   noun, proper singular\n",
      ".         PUNCT   .     punctuation mark, sentence closer\n"
     ]
    }
   ],
   "source": [
    "doc2=nlp(u\"I read a book on NLP.\")\n",
    "for token in doc2:\n",
    "    print(f'{token.text:{10}}{token.pos_:{8}}{token.tag_:{6}}{spacy.explain(token.tag_):{10}}')"
   ]
  },
  {
   "cell_type": "markdown",
   "id": "fe9055de",
   "metadata": {},
   "source": [
    "### counting POS Tags"
   ]
  },
  {
   "cell_type": "code",
   "execution_count": 14,
   "id": "01fed629",
   "metadata": {},
   "outputs": [
    {
     "data": {
      "text/plain": [
       "{96: 1, 99: 3, 84: 2, 88: 1, 89: 1, 91: 1, 92: 2, 95: 2}"
      ]
     },
     "execution_count": 14,
     "metadata": {},
     "output_type": "execute_result"
    }
   ],
   "source": [
    "doc= nlp(u\"Apple is looking at buying a U.K. startup for &1 Billion.\")\n",
    "pos_counts=doc.count_by(spacy.attrs.POS)\n",
    "pos_counts"
   ]
  },
  {
   "cell_type": "code",
   "execution_count": 15,
   "id": "ab35aeb5",
   "metadata": {},
   "outputs": [
    {
     "data": {
      "text/plain": [
       "'SYM'"
      ]
     },
     "execution_count": 15,
     "metadata": {},
     "output_type": "execute_result"
    }
   ],
   "source": [
    "doc.vocab[98].text"
   ]
  },
  {
   "cell_type": "code",
   "execution_count": 16,
   "id": "bc628079",
   "metadata": {},
   "outputs": [
    {
     "name": "stdout",
     "output_type": "stream",
     "text": [
      "84.ADP  :2\n",
      "88.CCONJ:1\n",
      "89.DET  :1\n",
      "91.NOUN :1\n",
      "92.NUM  :2\n",
      "95.PROPN:2\n",
      "96.PUNCT:1\n",
      "99.VERB :3\n"
     ]
    }
   ],
   "source": [
    "for k,v in sorted(pos_counts.items()):\n",
    "    print(f'{k}.{doc.vocab[k].text:{5}}:{v}')"
   ]
  },
  {
   "cell_type": "code",
   "execution_count": 18,
   "id": "49511a25",
   "metadata": {},
   "outputs": [
    {
     "name": "stdout",
     "output_type": "stream",
     "text": [
      "1292078113972184607.IN   :2\n",
      "1534113631682161808.VBG  :2\n",
      "8427216679587749980.CD   :2\n",
      "12646065887601541794..    :1\n",
      "13927759927860985106.VBZ  :1\n",
      "15267657372422890137.DT   :1\n",
      "15308085513773655218.NN   :1\n",
      "15794550382381185553.NNP  :2\n",
      "17571114184892886314.CC   :1\n"
     ]
    }
   ],
   "source": [
    "tag_counts=doc.count_by(spacy.attrs.TAG)\n",
    "for k,v in sorted(tag_counts.items()):\n",
    "    print(f'{k}.{doc.vocab[k].text:{5}}:{v}')"
   ]
  },
  {
   "cell_type": "markdown",
   "id": "37e3ef5b",
   "metadata": {},
   "source": [
    "# Visualizing Parts of Speech"
   ]
  },
  {
   "cell_type": "code",
   "execution_count": 20,
   "id": "7966f8da",
   "metadata": {},
   "outputs": [],
   "source": [
    "from spacy import displacy"
   ]
  },
  {
   "cell_type": "code",
   "execution_count": 21,
   "id": "dc08d11f",
   "metadata": {},
   "outputs": [],
   "source": [
    "doc=nlp(u\"A quick brown fox jumps over the lazy dog.\")"
   ]
  },
  {
   "cell_type": "code",
   "execution_count": 22,
   "id": "278e544e",
   "metadata": {},
   "outputs": [
    {
     "data": {
      "text/html": [
       "<svg xmlns=\"http://www.w3.org/2000/svg\" xmlns:xlink=\"http://www.w3.org/1999/xlink\" id=\"0\" class=\"displacy\" width=\"1040\" height=\"302.0\" style=\"max-width: none; height: 302.0px; color: #000000; background: #ffffff; font-family: Arial\">\n",
       "<text class=\"displacy-token\" fill=\"currentColor\" text-anchor=\"middle\" y=\"212.0\">\n",
       "    <tspan class=\"displacy-word\" fill=\"currentColor\" x=\"50\">A</tspan>\n",
       "    <tspan class=\"displacy-tag\" dy=\"2em\" fill=\"currentColor\" x=\"50\">DET</tspan>\n",
       "</text>\n",
       "\n",
       "<text class=\"displacy-token\" fill=\"currentColor\" text-anchor=\"middle\" y=\"212.0\">\n",
       "    <tspan class=\"displacy-word\" fill=\"currentColor\" x=\"160\">quick</tspan>\n",
       "    <tspan class=\"displacy-tag\" dy=\"2em\" fill=\"currentColor\" x=\"160\">ADJ</tspan>\n",
       "</text>\n",
       "\n",
       "<text class=\"displacy-token\" fill=\"currentColor\" text-anchor=\"middle\" y=\"212.0\">\n",
       "    <tspan class=\"displacy-word\" fill=\"currentColor\" x=\"270\">brown</tspan>\n",
       "    <tspan class=\"displacy-tag\" dy=\"2em\" fill=\"currentColor\" x=\"270\">ADJ</tspan>\n",
       "</text>\n",
       "\n",
       "<text class=\"displacy-token\" fill=\"currentColor\" text-anchor=\"middle\" y=\"212.0\">\n",
       "    <tspan class=\"displacy-word\" fill=\"currentColor\" x=\"380\">fox</tspan>\n",
       "    <tspan class=\"displacy-tag\" dy=\"2em\" fill=\"currentColor\" x=\"380\">NOUN</tspan>\n",
       "</text>\n",
       "\n",
       "<text class=\"displacy-token\" fill=\"currentColor\" text-anchor=\"middle\" y=\"212.0\">\n",
       "    <tspan class=\"displacy-word\" fill=\"currentColor\" x=\"490\">jumps</tspan>\n",
       "    <tspan class=\"displacy-tag\" dy=\"2em\" fill=\"currentColor\" x=\"490\">VERB</tspan>\n",
       "</text>\n",
       "\n",
       "<text class=\"displacy-token\" fill=\"currentColor\" text-anchor=\"middle\" y=\"212.0\">\n",
       "    <tspan class=\"displacy-word\" fill=\"currentColor\" x=\"600\">over</tspan>\n",
       "    <tspan class=\"displacy-tag\" dy=\"2em\" fill=\"currentColor\" x=\"600\">ADP</tspan>\n",
       "</text>\n",
       "\n",
       "<text class=\"displacy-token\" fill=\"currentColor\" text-anchor=\"middle\" y=\"212.0\">\n",
       "    <tspan class=\"displacy-word\" fill=\"currentColor\" x=\"710\">the</tspan>\n",
       "    <tspan class=\"displacy-tag\" dy=\"2em\" fill=\"currentColor\" x=\"710\">DET</tspan>\n",
       "</text>\n",
       "\n",
       "<text class=\"displacy-token\" fill=\"currentColor\" text-anchor=\"middle\" y=\"212.0\">\n",
       "    <tspan class=\"displacy-word\" fill=\"currentColor\" x=\"820\">lazy</tspan>\n",
       "    <tspan class=\"displacy-tag\" dy=\"2em\" fill=\"currentColor\" x=\"820\">ADJ</tspan>\n",
       "</text>\n",
       "\n",
       "<text class=\"displacy-token\" fill=\"currentColor\" text-anchor=\"middle\" y=\"212.0\">\n",
       "    <tspan class=\"displacy-word\" fill=\"currentColor\" x=\"930\">dog.</tspan>\n",
       "    <tspan class=\"displacy-tag\" dy=\"2em\" fill=\"currentColor\" x=\"930\">NOUN</tspan>\n",
       "</text>\n",
       "\n",
       "<g class=\"displacy-arrow\">\n",
       "    <path class=\"displacy-arc\" id=\"arrow-0-0\" stroke-width=\"2px\" d=\"M70,167.0 C70,2.0 380.0,2.0 380.0,167.0\" fill=\"none\" stroke=\"currentColor\"/>\n",
       "    <text dy=\"1.25em\" style=\"font-size: 0.8em; letter-spacing: 1px\">\n",
       "        <textPath xlink:href=\"#arrow-0-0\" class=\"displacy-label\" startOffset=\"50%\" fill=\"currentColor\" text-anchor=\"middle\">det</textPath>\n",
       "    </text>\n",
       "    <path class=\"displacy-arrowhead\" d=\"M70,169.0 L62,157.0 78,157.0\" fill=\"currentColor\"/>\n",
       "</g>\n",
       "\n",
       "<g class=\"displacy-arrow\">\n",
       "    <path class=\"displacy-arc\" id=\"arrow-0-1\" stroke-width=\"2px\" d=\"M180,167.0 C180,57.0 375.0,57.0 375.0,167.0\" fill=\"none\" stroke=\"currentColor\"/>\n",
       "    <text dy=\"1.25em\" style=\"font-size: 0.8em; letter-spacing: 1px\">\n",
       "        <textPath xlink:href=\"#arrow-0-1\" class=\"displacy-label\" startOffset=\"50%\" fill=\"currentColor\" text-anchor=\"middle\">amod</textPath>\n",
       "    </text>\n",
       "    <path class=\"displacy-arrowhead\" d=\"M180,169.0 L172,157.0 188,157.0\" fill=\"currentColor\"/>\n",
       "</g>\n",
       "\n",
       "<g class=\"displacy-arrow\">\n",
       "    <path class=\"displacy-arc\" id=\"arrow-0-2\" stroke-width=\"2px\" d=\"M290,167.0 C290,112.0 370.0,112.0 370.0,167.0\" fill=\"none\" stroke=\"currentColor\"/>\n",
       "    <text dy=\"1.25em\" style=\"font-size: 0.8em; letter-spacing: 1px\">\n",
       "        <textPath xlink:href=\"#arrow-0-2\" class=\"displacy-label\" startOffset=\"50%\" fill=\"currentColor\" text-anchor=\"middle\">amod</textPath>\n",
       "    </text>\n",
       "    <path class=\"displacy-arrowhead\" d=\"M290,169.0 L282,157.0 298,157.0\" fill=\"currentColor\"/>\n",
       "</g>\n",
       "\n",
       "<g class=\"displacy-arrow\">\n",
       "    <path class=\"displacy-arc\" id=\"arrow-0-3\" stroke-width=\"2px\" d=\"M400,167.0 C400,112.0 480.0,112.0 480.0,167.0\" fill=\"none\" stroke=\"currentColor\"/>\n",
       "    <text dy=\"1.25em\" style=\"font-size: 0.8em; letter-spacing: 1px\">\n",
       "        <textPath xlink:href=\"#arrow-0-3\" class=\"displacy-label\" startOffset=\"50%\" fill=\"currentColor\" text-anchor=\"middle\">nsubj</textPath>\n",
       "    </text>\n",
       "    <path class=\"displacy-arrowhead\" d=\"M400,169.0 L392,157.0 408,157.0\" fill=\"currentColor\"/>\n",
       "</g>\n",
       "\n",
       "<g class=\"displacy-arrow\">\n",
       "    <path class=\"displacy-arc\" id=\"arrow-0-4\" stroke-width=\"2px\" d=\"M510,167.0 C510,112.0 590.0,112.0 590.0,167.0\" fill=\"none\" stroke=\"currentColor\"/>\n",
       "    <text dy=\"1.25em\" style=\"font-size: 0.8em; letter-spacing: 1px\">\n",
       "        <textPath xlink:href=\"#arrow-0-4\" class=\"displacy-label\" startOffset=\"50%\" fill=\"currentColor\" text-anchor=\"middle\">prep</textPath>\n",
       "    </text>\n",
       "    <path class=\"displacy-arrowhead\" d=\"M590.0,169.0 L598.0,157.0 582.0,157.0\" fill=\"currentColor\"/>\n",
       "</g>\n",
       "\n",
       "<g class=\"displacy-arrow\">\n",
       "    <path class=\"displacy-arc\" id=\"arrow-0-5\" stroke-width=\"2px\" d=\"M730,167.0 C730,57.0 925.0,57.0 925.0,167.0\" fill=\"none\" stroke=\"currentColor\"/>\n",
       "    <text dy=\"1.25em\" style=\"font-size: 0.8em; letter-spacing: 1px\">\n",
       "        <textPath xlink:href=\"#arrow-0-5\" class=\"displacy-label\" startOffset=\"50%\" fill=\"currentColor\" text-anchor=\"middle\">det</textPath>\n",
       "    </text>\n",
       "    <path class=\"displacy-arrowhead\" d=\"M730,169.0 L722,157.0 738,157.0\" fill=\"currentColor\"/>\n",
       "</g>\n",
       "\n",
       "<g class=\"displacy-arrow\">\n",
       "    <path class=\"displacy-arc\" id=\"arrow-0-6\" stroke-width=\"2px\" d=\"M840,167.0 C840,112.0 920.0,112.0 920.0,167.0\" fill=\"none\" stroke=\"currentColor\"/>\n",
       "    <text dy=\"1.25em\" style=\"font-size: 0.8em; letter-spacing: 1px\">\n",
       "        <textPath xlink:href=\"#arrow-0-6\" class=\"displacy-label\" startOffset=\"50%\" fill=\"currentColor\" text-anchor=\"middle\">amod</textPath>\n",
       "    </text>\n",
       "    <path class=\"displacy-arrowhead\" d=\"M840,169.0 L832,157.0 848,157.0\" fill=\"currentColor\"/>\n",
       "</g>\n",
       "\n",
       "<g class=\"displacy-arrow\">\n",
       "    <path class=\"displacy-arc\" id=\"arrow-0-7\" stroke-width=\"2px\" d=\"M620,167.0 C620,2.0 930.0,2.0 930.0,167.0\" fill=\"none\" stroke=\"currentColor\"/>\n",
       "    <text dy=\"1.25em\" style=\"font-size: 0.8em; letter-spacing: 1px\">\n",
       "        <textPath xlink:href=\"#arrow-0-7\" class=\"displacy-label\" startOffset=\"50%\" fill=\"currentColor\" text-anchor=\"middle\">pobj</textPath>\n",
       "    </text>\n",
       "    <path class=\"displacy-arrowhead\" d=\"M930.0,169.0 L938.0,157.0 922.0,157.0\" fill=\"currentColor\"/>\n",
       "</g>\n",
       "</svg>"
      ],
      "text/plain": [
       "<IPython.core.display.HTML object>"
      ]
     },
     "metadata": {},
     "output_type": "display_data"
    }
   ],
   "source": [
    "displacy.render(doc,style='dep',jupyter=True,options={'distance':110})"
   ]
  },
  {
   "cell_type": "code",
   "execution_count": 26,
   "id": "0790be69",
   "metadata": {},
   "outputs": [
    {
     "name": "stdout",
     "output_type": "stream",
     "text": [
      " A          DET     det     determiner\n",
      " quick      ADJ     amod    adjectival modifier\n",
      " brown      ADJ     amod    adjectival modifier\n",
      " fox        NOUN    nsubj   nominal subject\n",
      " jumps      VERB    ROOT    None\n",
      " over       ADP     prep    prepositional modifier\n",
      " the        DET     det     determiner\n",
      " lazy       ADJ     amod    adjectival modifier\n",
      " dog        NOUN    pobj    object of preposition\n",
      " .          PUNCT   punct   punctuation\n"
     ]
    }
   ],
   "source": [
    "for token in doc:\n",
    "    print(f' {token.text:{10}} {token.pos_:{7}} {token.dep_:{7}} {spacy.explain(token.dep_)}')"
   ]
  },
  {
   "cell_type": "markdown",
   "id": "2c513ea0",
   "metadata": {},
   "source": [
    "**displacy the tree differently**"
   ]
  },
  {
   "cell_type": "code",
   "execution_count": 27,
   "id": "0c4cbc6b",
   "metadata": {},
   "outputs": [
    {
     "data": {
      "text/html": [
       "<svg xmlns=\"http://www.w3.org/2000/svg\" xmlns:xlink=\"http://www.w3.org/1999/xlink\" id=\"0\" class=\"displacy\" width=\"1040\" height=\"302.0\" style=\"max-width: none; height: 302.0px; color: yellow; background: #09a3d5; font-family: Arial\">\n",
       "<text class=\"displacy-token\" fill=\"currentColor\" text-anchor=\"middle\" y=\"212.0\">\n",
       "    <tspan class=\"displacy-word\" fill=\"currentColor\" x=\"50\">A</tspan>\n",
       "    <tspan class=\"displacy-tag\" dy=\"2em\" fill=\"currentColor\" x=\"50\">DET</tspan>\n",
       "</text>\n",
       "\n",
       "<text class=\"displacy-token\" fill=\"currentColor\" text-anchor=\"middle\" y=\"212.0\">\n",
       "    <tspan class=\"displacy-word\" fill=\"currentColor\" x=\"160\">quick</tspan>\n",
       "    <tspan class=\"displacy-tag\" dy=\"2em\" fill=\"currentColor\" x=\"160\">ADJ</tspan>\n",
       "</text>\n",
       "\n",
       "<text class=\"displacy-token\" fill=\"currentColor\" text-anchor=\"middle\" y=\"212.0\">\n",
       "    <tspan class=\"displacy-word\" fill=\"currentColor\" x=\"270\">brown</tspan>\n",
       "    <tspan class=\"displacy-tag\" dy=\"2em\" fill=\"currentColor\" x=\"270\">ADJ</tspan>\n",
       "</text>\n",
       "\n",
       "<text class=\"displacy-token\" fill=\"currentColor\" text-anchor=\"middle\" y=\"212.0\">\n",
       "    <tspan class=\"displacy-word\" fill=\"currentColor\" x=\"380\">fox</tspan>\n",
       "    <tspan class=\"displacy-tag\" dy=\"2em\" fill=\"currentColor\" x=\"380\">NOUN</tspan>\n",
       "</text>\n",
       "\n",
       "<text class=\"displacy-token\" fill=\"currentColor\" text-anchor=\"middle\" y=\"212.0\">\n",
       "    <tspan class=\"displacy-word\" fill=\"currentColor\" x=\"490\">jumps</tspan>\n",
       "    <tspan class=\"displacy-tag\" dy=\"2em\" fill=\"currentColor\" x=\"490\">VERB</tspan>\n",
       "</text>\n",
       "\n",
       "<text class=\"displacy-token\" fill=\"currentColor\" text-anchor=\"middle\" y=\"212.0\">\n",
       "    <tspan class=\"displacy-word\" fill=\"currentColor\" x=\"600\">over</tspan>\n",
       "    <tspan class=\"displacy-tag\" dy=\"2em\" fill=\"currentColor\" x=\"600\">ADP</tspan>\n",
       "</text>\n",
       "\n",
       "<text class=\"displacy-token\" fill=\"currentColor\" text-anchor=\"middle\" y=\"212.0\">\n",
       "    <tspan class=\"displacy-word\" fill=\"currentColor\" x=\"710\">the</tspan>\n",
       "    <tspan class=\"displacy-tag\" dy=\"2em\" fill=\"currentColor\" x=\"710\">DET</tspan>\n",
       "</text>\n",
       "\n",
       "<text class=\"displacy-token\" fill=\"currentColor\" text-anchor=\"middle\" y=\"212.0\">\n",
       "    <tspan class=\"displacy-word\" fill=\"currentColor\" x=\"820\">lazy</tspan>\n",
       "    <tspan class=\"displacy-tag\" dy=\"2em\" fill=\"currentColor\" x=\"820\">ADJ</tspan>\n",
       "</text>\n",
       "\n",
       "<text class=\"displacy-token\" fill=\"currentColor\" text-anchor=\"middle\" y=\"212.0\">\n",
       "    <tspan class=\"displacy-word\" fill=\"currentColor\" x=\"930\">dog.</tspan>\n",
       "    <tspan class=\"displacy-tag\" dy=\"2em\" fill=\"currentColor\" x=\"930\">NOUN</tspan>\n",
       "</text>\n",
       "\n",
       "<g class=\"displacy-arrow\">\n",
       "    <path class=\"displacy-arc\" id=\"arrow-0-0\" stroke-width=\"2px\" d=\"M62,167.0 62,112.0 380.0,112.0 380.0,167.0\" fill=\"none\" stroke=\"currentColor\"/>\n",
       "    <text dy=\"1.25em\" style=\"font-size: 0.8em; letter-spacing: 1px\">\n",
       "        <textPath xlink:href=\"#arrow-0-0\" class=\"displacy-label\" startOffset=\"50%\" fill=\"currentColor\" text-anchor=\"middle\">det</textPath>\n",
       "    </text>\n",
       "    <path class=\"displacy-arrowhead\" d=\"M62,169.0 L58,161.0 66,161.0\" fill=\"currentColor\"/>\n",
       "</g>\n",
       "\n",
       "<g class=\"displacy-arrow\">\n",
       "    <path class=\"displacy-arc\" id=\"arrow-0-1\" stroke-width=\"2px\" d=\"M172,167.0 172,130.33333333333334 377.0,130.33333333333334 377.0,167.0\" fill=\"none\" stroke=\"currentColor\"/>\n",
       "    <text dy=\"1.25em\" style=\"font-size: 0.8em; letter-spacing: 1px\">\n",
       "        <textPath xlink:href=\"#arrow-0-1\" class=\"displacy-label\" startOffset=\"50%\" fill=\"currentColor\" text-anchor=\"middle\">amod</textPath>\n",
       "    </text>\n",
       "    <path class=\"displacy-arrowhead\" d=\"M172,169.0 L168,161.0 176,161.0\" fill=\"currentColor\"/>\n",
       "</g>\n",
       "\n",
       "<g class=\"displacy-arrow\">\n",
       "    <path class=\"displacy-arc\" id=\"arrow-0-2\" stroke-width=\"2px\" d=\"M282,167.0 282,148.66666666666666 374.0,148.66666666666666 374.0,167.0\" fill=\"none\" stroke=\"currentColor\"/>\n",
       "    <text dy=\"1.25em\" style=\"font-size: 0.8em; letter-spacing: 1px\">\n",
       "        <textPath xlink:href=\"#arrow-0-2\" class=\"displacy-label\" startOffset=\"50%\" fill=\"currentColor\" text-anchor=\"middle\">amod</textPath>\n",
       "    </text>\n",
       "    <path class=\"displacy-arrowhead\" d=\"M282,169.0 L278,161.0 286,161.0\" fill=\"currentColor\"/>\n",
       "</g>\n",
       "\n",
       "<g class=\"displacy-arrow\">\n",
       "    <path class=\"displacy-arc\" id=\"arrow-0-3\" stroke-width=\"2px\" d=\"M392,167.0 392,148.66666666666666 484.0,148.66666666666666 484.0,167.0\" fill=\"none\" stroke=\"currentColor\"/>\n",
       "    <text dy=\"1.25em\" style=\"font-size: 0.8em; letter-spacing: 1px\">\n",
       "        <textPath xlink:href=\"#arrow-0-3\" class=\"displacy-label\" startOffset=\"50%\" fill=\"currentColor\" text-anchor=\"middle\">nsubj</textPath>\n",
       "    </text>\n",
       "    <path class=\"displacy-arrowhead\" d=\"M392,169.0 L388,161.0 396,161.0\" fill=\"currentColor\"/>\n",
       "</g>\n",
       "\n",
       "<g class=\"displacy-arrow\">\n",
       "    <path class=\"displacy-arc\" id=\"arrow-0-4\" stroke-width=\"2px\" d=\"M502,167.0 502,148.66666666666666 594.0,148.66666666666666 594.0,167.0\" fill=\"none\" stroke=\"currentColor\"/>\n",
       "    <text dy=\"1.25em\" style=\"font-size: 0.8em; letter-spacing: 1px\">\n",
       "        <textPath xlink:href=\"#arrow-0-4\" class=\"displacy-label\" startOffset=\"50%\" fill=\"currentColor\" text-anchor=\"middle\">prep</textPath>\n",
       "    </text>\n",
       "    <path class=\"displacy-arrowhead\" d=\"M594.0,169.0 L598.0,161.0 590.0,161.0\" fill=\"currentColor\"/>\n",
       "</g>\n",
       "\n",
       "<g class=\"displacy-arrow\">\n",
       "    <path class=\"displacy-arc\" id=\"arrow-0-5\" stroke-width=\"2px\" d=\"M722,167.0 722,130.33333333333334 927.0,130.33333333333334 927.0,167.0\" fill=\"none\" stroke=\"currentColor\"/>\n",
       "    <text dy=\"1.25em\" style=\"font-size: 0.8em; letter-spacing: 1px\">\n",
       "        <textPath xlink:href=\"#arrow-0-5\" class=\"displacy-label\" startOffset=\"50%\" fill=\"currentColor\" text-anchor=\"middle\">det</textPath>\n",
       "    </text>\n",
       "    <path class=\"displacy-arrowhead\" d=\"M722,169.0 L718,161.0 726,161.0\" fill=\"currentColor\"/>\n",
       "</g>\n",
       "\n",
       "<g class=\"displacy-arrow\">\n",
       "    <path class=\"displacy-arc\" id=\"arrow-0-6\" stroke-width=\"2px\" d=\"M832,167.0 832,148.66666666666666 924.0,148.66666666666666 924.0,167.0\" fill=\"none\" stroke=\"currentColor\"/>\n",
       "    <text dy=\"1.25em\" style=\"font-size: 0.8em; letter-spacing: 1px\">\n",
       "        <textPath xlink:href=\"#arrow-0-6\" class=\"displacy-label\" startOffset=\"50%\" fill=\"currentColor\" text-anchor=\"middle\">amod</textPath>\n",
       "    </text>\n",
       "    <path class=\"displacy-arrowhead\" d=\"M832,169.0 L828,161.0 836,161.0\" fill=\"currentColor\"/>\n",
       "</g>\n",
       "\n",
       "<g class=\"displacy-arrow\">\n",
       "    <path class=\"displacy-arc\" id=\"arrow-0-7\" stroke-width=\"2px\" d=\"M612,167.0 612,112.0 930.0,112.0 930.0,167.0\" fill=\"none\" stroke=\"currentColor\"/>\n",
       "    <text dy=\"1.25em\" style=\"font-size: 0.8em; letter-spacing: 1px\">\n",
       "        <textPath xlink:href=\"#arrow-0-7\" class=\"displacy-label\" startOffset=\"50%\" fill=\"currentColor\" text-anchor=\"middle\">pobj</textPath>\n",
       "    </text>\n",
       "    <path class=\"displacy-arrowhead\" d=\"M930.0,169.0 L934.0,161.0 926.0,161.0\" fill=\"currentColor\"/>\n",
       "</g>\n",
       "</svg>"
      ],
      "text/plain": [
       "<IPython.core.display.HTML object>"
      ]
     },
     "metadata": {},
     "output_type": "display_data"
    }
   ],
   "source": [
    "options={'distance':110,'compact':'True','color':'yellow','bg':'#09a3d5','fonts':'Times'}\n",
    "displacy.render(doc,style='dep',jupyter=True,options=options)"
   ]
  },
  {
   "cell_type": "markdown",
   "id": "d787d88a",
   "metadata": {},
   "source": [
    "**drop outside jupyter notebook**"
   ]
  },
  {
   "cell_type": "markdown",
   "id": "7d20e68c",
   "metadata": {},
   "source": [
    "# Named Entity Recognition"
   ]
  },
  {
   "cell_type": "code",
   "execution_count": 31,
   "id": "eaf00cff",
   "metadata": {},
   "outputs": [],
   "source": [
    "def show_ents(doc):\n",
    "    if doc.ents:\n",
    "        for entity in doc.ents:\n",
    "            print(entity.text + '-----' + entity.label_ + '-----' + str(spacy.explain(entity.label_)))\n",
    "    else:\n",
    "        print('No named entities found!')"
   ]
  },
  {
   "cell_type": "code",
   "execution_count": 32,
   "id": "6ba2bb19",
   "metadata": {},
   "outputs": [],
   "source": [
    "doc=nlp(u\"I am heading to New Yorks City and will visit Statue of Liberty tomorrow\")"
   ]
  },
  {
   "cell_type": "code",
   "execution_count": 33,
   "id": "78e85426",
   "metadata": {},
   "outputs": [
    {
     "name": "stdout",
     "output_type": "stream",
     "text": [
      "New Yorks City-----GPE-----Countries, cities, states\n",
      "Statue of Liberty-----ORG-----Companies, agencies, institutions, etc.\n",
      "tomorrow-----DATE-----Absolute or relative dates or periods\n"
     ]
    }
   ],
   "source": [
    "show_ents(doc)"
   ]
  },
  {
   "cell_type": "markdown",
   "id": "a17f0f27",
   "metadata": {},
   "source": [
    "### add our own named entity"
   ]
  },
  {
   "cell_type": "code",
   "execution_count": 34,
   "id": "92a3b5b4",
   "metadata": {},
   "outputs": [
    {
     "name": "stdout",
     "output_type": "stream",
     "text": [
      "U.K.-----GPE-----Countries, cities, states\n",
      "$40 Million-----MONEY-----Monetary values, including unit\n"
     ]
    }
   ],
   "source": [
    "doc=nlp(u\"Tesla is planning to build a new plant in U.K. for $40 Million.\")\n",
    "show_ents(doc)"
   ]
  },
  {
   "cell_type": "markdown",
   "id": "81ce32ed",
   "metadata": {},
   "source": [
    "ents returns a tuple of entities."
   ]
  },
  {
   "cell_type": "code",
   "execution_count": 35,
   "id": "809977af",
   "metadata": {},
   "outputs": [
    {
     "data": {
      "text/plain": [
       "tuple"
      ]
     },
     "execution_count": 35,
     "metadata": {},
     "output_type": "execute_result"
    }
   ],
   "source": [
    "type(doc.ents)"
   ]
  },
  {
   "cell_type": "code",
   "execution_count": 36,
   "id": "84165e5a",
   "metadata": {},
   "outputs": [
    {
     "data": {
      "text/plain": [
       "spacy.tokens.span.Span"
      ]
     },
     "execution_count": 36,
     "metadata": {},
     "output_type": "execute_result"
    }
   ],
   "source": [
    "type(doc.ents[0])"
   ]
  },
  {
   "cell_type": "markdown",
   "id": "8d53cd20",
   "metadata": {},
   "source": [
    "step one: find the hash value of 'ORG'"
   ]
  },
  {
   "cell_type": "code",
   "execution_count": 38,
   "id": "affd09eb",
   "metadata": {},
   "outputs": [
    {
     "data": {
      "text/plain": [
       "381"
      ]
     },
     "execution_count": 38,
     "metadata": {},
     "output_type": "execute_result"
    }
   ],
   "source": [
    "from spacy.tokens import Span\n",
    "ORG=doc.vocab.strings['ORG']\n",
    "ORG"
   ]
  },
  {
   "cell_type": "markdown",
   "id": "12d25af6",
   "metadata": {},
   "source": [
    "step two create a new span on doc,put the hash value on the span"
   ]
  },
  {
   "cell_type": "code",
   "execution_count": 39,
   "id": "f90916fe",
   "metadata": {},
   "outputs": [],
   "source": [
    "new_entity=Span(doc,0,1,label=ORG)"
   ]
  },
  {
   "cell_type": "markdown",
   "id": "3892f5f4",
   "metadata": {},
   "source": [
    "step three: append the new entity"
   ]
  },
  {
   "cell_type": "code",
   "execution_count": 40,
   "id": "b112ee49",
   "metadata": {},
   "outputs": [],
   "source": [
    "doc.ents=list(doc.ents)+[new_entity]"
   ]
  },
  {
   "cell_type": "code",
   "execution_count": 41,
   "id": "28735384",
   "metadata": {},
   "outputs": [
    {
     "name": "stdout",
     "output_type": "stream",
     "text": [
      "Tesla-----ORG-----Companies, agencies, institutions, etc.\n",
      "U.K.-----GPE-----Countries, cities, states\n",
      "$40 Million-----MONEY-----Monetary values, including unit\n"
     ]
    }
   ],
   "source": [
    "show_ents(doc)"
   ]
  },
  {
   "cell_type": "markdown",
   "id": "5d6abbd0",
   "metadata": {},
   "source": [
    "### Adding multiple named entities for all matching spans"
   ]
  },
  {
   "cell_type": "code",
   "execution_count": 52,
   "id": "4bea77d2",
   "metadata": {},
   "outputs": [
    {
     "name": "stdout",
     "output_type": "stream",
     "text": [
      "first-----ORDINAL-----\"first\", \"second\", etc.\n"
     ]
    }
   ],
   "source": [
    "doc=nlp(\"Our company plans to introduce new vacuum cleaner.If this works out the new vacuum cleaner will be our first product.\")\n",
    "show_ents(doc)"
   ]
  },
  {
   "cell_type": "code",
   "execution_count": 46,
   "id": "d6882065",
   "metadata": {},
   "outputs": [],
   "source": [
    "from spacy.matcher import PhraseMatcher\n",
    "matcher=PhraseMatcher(nlp.vocab)\n",
    "\n",
    "# the patterns we want to match\n",
    "phrase_list=['vacuum cleaner','vacuum-cleaner','vaccumcleaner']\n",
    "phrase_patterns=[nlp(text) for text in phrase_list]"
   ]
  },
  {
   "cell_type": "code",
   "execution_count": 47,
   "id": "959129fb",
   "metadata": {},
   "outputs": [
    {
     "data": {
      "text/plain": [
       "spacy.tokens.doc.Doc"
      ]
     },
     "execution_count": 47,
     "metadata": {},
     "output_type": "execute_result"
    }
   ],
   "source": [
    "type(phrase_patterns[0])"
   ]
  },
  {
   "cell_type": "code",
   "execution_count": 48,
   "id": "f9212458",
   "metadata": {},
   "outputs": [],
   "source": [
    "matcher.add('clientproducts',None,*phrase_patterns)"
   ]
  },
  {
   "cell_type": "code",
   "execution_count": 53,
   "id": "3ab7085e",
   "metadata": {},
   "outputs": [
    {
     "data": {
      "text/plain": [
       "[(245706805299067201, 6, 8), (245706805299067201, 15, 17)]"
      ]
     },
     "execution_count": 53,
     "metadata": {},
     "output_type": "execute_result"
    }
   ],
   "source": [
    "matches=matcher(doc)\n",
    "matches"
   ]
  },
  {
   "cell_type": "markdown",
   "id": "d9da393f",
   "metadata": {},
   "source": [
    "create a label"
   ]
  },
  {
   "cell_type": "code",
   "execution_count": 54,
   "id": "165423de",
   "metadata": {},
   "outputs": [],
   "source": [
    "prod=doc.vocab.strings[u'PRODUCT']"
   ]
  },
  {
   "cell_type": "markdown",
   "id": "2d4139e1",
   "metadata": {},
   "source": [
    "create a list of spans"
   ]
  },
  {
   "cell_type": "code",
   "execution_count": 55,
   "id": "9143df22",
   "metadata": {},
   "outputs": [],
   "source": [
    "new_entities=[Span(doc,match[1],match[2],label=prod) for match in matches ]"
   ]
  },
  {
   "cell_type": "code",
   "execution_count": 56,
   "id": "af477402",
   "metadata": {},
   "outputs": [
    {
     "data": {
      "text/plain": [
       "2"
      ]
     },
     "execution_count": 56,
     "metadata": {},
     "output_type": "execute_result"
    }
   ],
   "source": [
    "len(new_entities)"
   ]
  },
  {
   "cell_type": "code",
   "execution_count": 57,
   "id": "5e0f5928",
   "metadata": {},
   "outputs": [
    {
     "data": {
      "text/plain": [
       "spacy.tokens.span.Span"
      ]
     },
     "execution_count": 57,
     "metadata": {},
     "output_type": "execute_result"
    }
   ],
   "source": [
    "type(new_entities[0])"
   ]
  },
  {
   "cell_type": "code",
   "execution_count": 58,
   "id": "18faa524",
   "metadata": {},
   "outputs": [],
   "source": [
    "doc.ents=list(doc.ents)+new_entities"
   ]
  },
  {
   "cell_type": "code",
   "execution_count": 59,
   "id": "38a56e16",
   "metadata": {},
   "outputs": [
    {
     "name": "stdout",
     "output_type": "stream",
     "text": [
      "vacuum cleaner-----PRODUCT-----Objects, vehicles, foods, etc. (not services)\n",
      "vacuum cleaner-----PRODUCT-----Objects, vehicles, foods, etc. (not services)\n",
      "first-----ORDINAL-----\"first\", \"second\", etc.\n"
     ]
    }
   ],
   "source": [
    "show_ents(doc)"
   ]
  },
  {
   "cell_type": "markdown",
   "id": "9a2fdb21",
   "metadata": {},
   "source": [
    "### counting entities of a certain type (label)"
   ]
  },
  {
   "cell_type": "code",
   "execution_count": 60,
   "id": "dc0a450a",
   "metadata": {},
   "outputs": [
    {
     "name": "stdout",
     "output_type": "stream",
     "text": [
      "2000-----MONEY-----Monetary values, including unit\n",
      "500 dollars-----MONEY-----Monetary values, including unit\n"
     ]
    }
   ],
   "source": [
    "doc=nlp(u\"I found a furniture priced at $2000 which is marked down by 500 dollars.\")\n",
    "show_ents(doc)"
   ]
  },
  {
   "cell_type": "code",
   "execution_count": 63,
   "id": "66aa2184",
   "metadata": {},
   "outputs": [
    {
     "data": {
      "text/plain": [
       "2"
      ]
     },
     "execution_count": 63,
     "metadata": {},
     "output_type": "execute_result"
    }
   ],
   "source": [
    "len([ent for ent in doc.ents if ent.label_=='MONEY'])"
   ]
  },
  {
   "cell_type": "markdown",
   "id": "5947d18e",
   "metadata": {},
   "source": [
    "## Noun Chunks"
   ]
  },
  {
   "cell_type": "code",
   "execution_count": 65,
   "id": "1ad977e0",
   "metadata": {},
   "outputs": [
    {
     "name": "stdout",
     "output_type": "stream",
     "text": [
      "Autonomous cars-----cars-----nsubj-----shift\n",
      "insurance liability-----liability-----dobj-----shift\n",
      "manufacturers-----manufacturers-----pobj-----towards\n"
     ]
    }
   ],
   "source": [
    "doc=nlp(u\"Autonomous cars shift insurance liability towards manufacturers.\")\n",
    "\n",
    "for chunk in doc.noun_chunks:\n",
    "    print(chunk.text+'-----'+chunk.root.text+'-----'+chunk.root.dep_+'-----'+chunk.root.head.text)"
   ]
  },
  {
   "cell_type": "code",
   "execution_count": 66,
   "id": "1e90380d",
   "metadata": {},
   "outputs": [
    {
     "data": {
      "text/plain": [
       "generator"
      ]
     },
     "execution_count": 66,
     "metadata": {},
     "output_type": "execute_result"
    }
   ],
   "source": [
    "type(doc.noun_chunks)"
   ]
  },
  {
   "cell_type": "markdown",
   "id": "9420c716",
   "metadata": {},
   "source": [
    "noun_chunks is not a container,\n",
    "object of type **'generator'** has no len()"
   ]
  },
  {
   "cell_type": "code",
   "execution_count": 67,
   "id": "96c631d3",
   "metadata": {},
   "outputs": [
    {
     "data": {
      "text/plain": [
       "generator"
      ]
     },
     "execution_count": 67,
     "metadata": {},
     "output_type": "execute_result"
    }
   ],
   "source": [
    "type(doc.sents)"
   ]
  },
  {
   "cell_type": "markdown",
   "id": "575cccc2",
   "metadata": {},
   "source": [
    "---\n",
    "# Visualizing Named Entities"
   ]
  },
  {
   "cell_type": "code",
   "execution_count": 68,
   "id": "37b5da5d",
   "metadata": {},
   "outputs": [],
   "source": [
    "doc=nlp(u\"Over the last quarter, Apple sold nearly 20 thousand iPhone 12 for a profit of $200 million.\")"
   ]
  },
  {
   "cell_type": "code",
   "execution_count": 69,
   "id": "942955b1",
   "metadata": {},
   "outputs": [
    {
     "data": {
      "text/html": [
       "<div class=\"entities\" style=\"line-height: 2.5\">Over \n",
       "<mark class=\"entity\" style=\"background: #bfe1d9; padding: 0.45em 0.6em; margin: 0 0.25em; line-height: 1; border-radius: 0.35em; box-decoration-break: clone; -webkit-box-decoration-break: clone\">\n",
       "    the last quarter\n",
       "    <span style=\"font-size: 0.8em; font-weight: bold; line-height: 1; border-radius: 0.35em; text-transform: uppercase; vertical-align: middle; margin-left: 0.5rem\">DATE</span>\n",
       "</mark>\n",
       ", \n",
       "<mark class=\"entity\" style=\"background: #7aecec; padding: 0.45em 0.6em; margin: 0 0.25em; line-height: 1; border-radius: 0.35em; box-decoration-break: clone; -webkit-box-decoration-break: clone\">\n",
       "    Apple\n",
       "    <span style=\"font-size: 0.8em; font-weight: bold; line-height: 1; border-radius: 0.35em; text-transform: uppercase; vertical-align: middle; margin-left: 0.5rem\">ORG</span>\n",
       "</mark>\n",
       " sold \n",
       "<mark class=\"entity\" style=\"background: #e4e7d2; padding: 0.45em 0.6em; margin: 0 0.25em; line-height: 1; border-radius: 0.35em; box-decoration-break: clone; -webkit-box-decoration-break: clone\">\n",
       "    nearly 20 thousand\n",
       "    <span style=\"font-size: 0.8em; font-weight: bold; line-height: 1; border-radius: 0.35em; text-transform: uppercase; vertical-align: middle; margin-left: 0.5rem\">CARDINAL</span>\n",
       "</mark>\n",
       " \n",
       "<mark class=\"entity\" style=\"background: #7aecec; padding: 0.45em 0.6em; margin: 0 0.25em; line-height: 1; border-radius: 0.35em; box-decoration-break: clone; -webkit-box-decoration-break: clone\">\n",
       "    iPhone 12\n",
       "    <span style=\"font-size: 0.8em; font-weight: bold; line-height: 1; border-radius: 0.35em; text-transform: uppercase; vertical-align: middle; margin-left: 0.5rem\">ORG</span>\n",
       "</mark>\n",
       " for a profit of \n",
       "<mark class=\"entity\" style=\"background: #e4e7d2; padding: 0.45em 0.6em; margin: 0 0.25em; line-height: 1; border-radius: 0.35em; box-decoration-break: clone; -webkit-box-decoration-break: clone\">\n",
       "    $200 million\n",
       "    <span style=\"font-size: 0.8em; font-weight: bold; line-height: 1; border-radius: 0.35em; text-transform: uppercase; vertical-align: middle; margin-left: 0.5rem\">MONEY</span>\n",
       "</mark>\n",
       ".</div>"
      ],
      "text/plain": [
       "<IPython.core.display.HTML object>"
      ]
     },
     "metadata": {},
     "output_type": "display_data"
    }
   ],
   "source": [
    "displacy.render(doc,style='ent',jupyter=True)"
   ]
  },
  {
   "cell_type": "code",
   "execution_count": 70,
   "id": "cc922f7c",
   "metadata": {},
   "outputs": [
    {
     "data": {
      "text/html": [
       "<div class=\"entities\" style=\"line-height: 2.5\">Over \n",
       "<mark class=\"entity\" style=\"background: #bfe1d9; padding: 0.45em 0.6em; margin: 0 0.25em; line-height: 1; border-radius: 0.35em; box-decoration-break: clone; -webkit-box-decoration-break: clone\">\n",
       "    the last quarter\n",
       "    <span style=\"font-size: 0.8em; font-weight: bold; line-height: 1; border-radius: 0.35em; text-transform: uppercase; vertical-align: middle; margin-left: 0.5rem\">DATE</span>\n",
       "</mark>\n",
       ", \n",
       "<mark class=\"entity\" style=\"background: #7aecec; padding: 0.45em 0.6em; margin: 0 0.25em; line-height: 1; border-radius: 0.35em; box-decoration-break: clone; -webkit-box-decoration-break: clone\">\n",
       "    Apple\n",
       "    <span style=\"font-size: 0.8em; font-weight: bold; line-height: 1; border-radius: 0.35em; text-transform: uppercase; vertical-align: middle; margin-left: 0.5rem\">ORG</span>\n",
       "</mark>\n",
       " sold nearly 20 thousand \n",
       "<mark class=\"entity\" style=\"background: #7aecec; padding: 0.45em 0.6em; margin: 0 0.25em; line-height: 1; border-radius: 0.35em; box-decoration-break: clone; -webkit-box-decoration-break: clone\">\n",
       "    iPhone 12\n",
       "    <span style=\"font-size: 0.8em; font-weight: bold; line-height: 1; border-radius: 0.35em; text-transform: uppercase; vertical-align: middle; margin-left: 0.5rem\">ORG</span>\n",
       "</mark>\n",
       " for a profit of \n",
       "<mark class=\"entity\" style=\"background: #e4e7d2; padding: 0.45em 0.6em; margin: 0 0.25em; line-height: 1; border-radius: 0.35em; box-decoration-break: clone; -webkit-box-decoration-break: clone\">\n",
       "    $200 million\n",
       "    <span style=\"font-size: 0.8em; font-weight: bold; line-height: 1; border-radius: 0.35em; text-transform: uppercase; vertical-align: middle; margin-left: 0.5rem\">MONEY</span>\n",
       "</mark>\n",
       ".</div>"
      ],
      "text/plain": [
       "<IPython.core.display.HTML object>"
      ]
     },
     "metadata": {},
     "output_type": "display_data"
    }
   ],
   "source": [
    "options={'ents':['ORG','DATE','MONEY']}\n",
    "displacy.render(doc,style='ent',jupyter=True,options=options)"
   ]
  },
  {
   "cell_type": "code",
   "execution_count": 72,
   "id": "7465b349",
   "metadata": {},
   "outputs": [
    {
     "data": {
      "text/html": [
       "<div class=\"entities\" style=\"line-height: 2.5\">Over \n",
       "<mark class=\"entity\" style=\"background: #bfe1d9; padding: 0.45em 0.6em; margin: 0 0.25em; line-height: 1; border-radius: 0.35em; box-decoration-break: clone; -webkit-box-decoration-break: clone\">\n",
       "    the last quarter\n",
       "    <span style=\"font-size: 0.8em; font-weight: bold; line-height: 1; border-radius: 0.35em; text-transform: uppercase; vertical-align: middle; margin-left: 0.5rem\">DATE</span>\n",
       "</mark>\n",
       ", \n",
       "<mark class=\"entity\" style=\"background: Linear-gradient(90deg,orange,green); padding: 0.45em 0.6em; margin: 0 0.25em; line-height: 1; border-radius: 0.35em; box-decoration-break: clone; -webkit-box-decoration-break: clone\">\n",
       "    Apple\n",
       "    <span style=\"font-size: 0.8em; font-weight: bold; line-height: 1; border-radius: 0.35em; text-transform: uppercase; vertical-align: middle; margin-left: 0.5rem\">ORG</span>\n",
       "</mark>\n",
       " sold nearly 20 thousand \n",
       "<mark class=\"entity\" style=\"background: Linear-gradient(90deg,orange,green); padding: 0.45em 0.6em; margin: 0 0.25em; line-height: 1; border-radius: 0.35em; box-decoration-break: clone; -webkit-box-decoration-break: clone\">\n",
       "    iPhone 12\n",
       "    <span style=\"font-size: 0.8em; font-weight: bold; line-height: 1; border-radius: 0.35em; text-transform: uppercase; vertical-align: middle; margin-left: 0.5rem\">ORG</span>\n",
       "</mark>\n",
       " for a profit of \n",
       "<mark class=\"entity\" style=\"background: radial-gradient(red,yellow); padding: 0.45em 0.6em; margin: 0 0.25em; line-height: 1; border-radius: 0.35em; box-decoration-break: clone; -webkit-box-decoration-break: clone\">\n",
       "    $200 million\n",
       "    <span style=\"font-size: 0.8em; font-weight: bold; line-height: 1; border-radius: 0.35em; text-transform: uppercase; vertical-align: middle; margin-left: 0.5rem\">MONEY</span>\n",
       "</mark>\n",
       ".</div>"
      ],
      "text/plain": [
       "<IPython.core.display.HTML object>"
      ]
     },
     "metadata": {},
     "output_type": "display_data"
    }
   ],
   "source": [
    "#colors={'ORG':'orange','MONEY':'yellow'}\n",
    "colors={'ORG':'Linear-gradient(90deg,orange,green)','MONEY':'radial-gradient(red,yellow)'}\n",
    "\n",
    "options={'ents':['ORG','DATE','MONEY'],'colors':colors}\n",
    "displacy.render(doc,style='ent',jupyter=True,options=options)"
   ]
  },
  {
   "cell_type": "markdown",
   "id": "d8ef2d9f",
   "metadata": {},
   "source": [
    "---\n",
    "# Sentence Segmentation"
   ]
  },
  {
   "cell_type": "code",
   "execution_count": 73,
   "id": "521b90b7",
   "metadata": {},
   "outputs": [
    {
     "name": "stdout",
     "output_type": "stream",
     "text": [
      "This is the first sentence.\n",
      "This is another sentence.\n",
      "This is the third sentence.\n"
     ]
    }
   ],
   "source": [
    "doc=nlp(u\"This is the first sentence. This is another sentence. This is the third sentence.\")\n",
    "\n",
    "for sent in doc.sents:\n",
    "    print(sent)"
   ]
  },
  {
   "cell_type": "code",
   "execution_count": 74,
   "id": "943354d8",
   "metadata": {},
   "outputs": [
    {
     "data": {
      "text/plain": [
       "generator"
      ]
     },
     "execution_count": 74,
     "metadata": {},
     "output_type": "execute_result"
    }
   ],
   "source": [
    "type(doc.sents)"
   ]
  },
  {
   "cell_type": "code",
   "execution_count": 75,
   "id": "f83843ca",
   "metadata": {},
   "outputs": [
    {
     "ename": "TypeError",
     "evalue": "'generator' object is not subscriptable",
     "output_type": "error",
     "traceback": [
      "\u001b[0;31m---------------------------------------------------------------------------\u001b[0m",
      "\u001b[0;31mTypeError\u001b[0m                                 Traceback (most recent call last)",
      "\u001b[0;32m/var/folders/ly/csbbtbk94zg0bw5rzw4l3cdc0000gn/T/ipykernel_36638/222932956.py\u001b[0m in \u001b[0;36m<module>\u001b[0;34m\u001b[0m\n\u001b[0;32m----> 1\u001b[0;31m \u001b[0mdoc\u001b[0m\u001b[0;34m.\u001b[0m\u001b[0msents\u001b[0m\u001b[0;34m[\u001b[0m\u001b[0;36m0\u001b[0m\u001b[0;34m]\u001b[0m\u001b[0;34m\u001b[0m\u001b[0;34m\u001b[0m\u001b[0m\n\u001b[0m",
      "\u001b[0;31mTypeError\u001b[0m: 'generator' object is not subscriptable"
     ]
    }
   ],
   "source": [
    "doc.sents[0]"
   ]
  },
  {
   "cell_type": "markdown",
   "id": "d902b5a4",
   "metadata": {},
   "source": [
    "the attribute doesnt hold the message.No copy here."
   ]
  },
  {
   "cell_type": "code",
   "execution_count": 76,
   "id": "a5490a6e",
   "metadata": {},
   "outputs": [
    {
     "data": {
      "text/plain": [
       "This is the first sentence."
      ]
     },
     "execution_count": 76,
     "metadata": {},
     "output_type": "execute_result"
    }
   ],
   "source": [
    "list(doc.sents)[0]"
   ]
  },
  {
   "cell_type": "markdown",
   "id": "53697574",
   "metadata": {},
   "source": [
    "Here you can get the elements of sentences."
   ]
  },
  {
   "cell_type": "code",
   "execution_count": 77,
   "id": "62c13f7e",
   "metadata": {},
   "outputs": [
    {
     "data": {
      "text/plain": [
       "3"
      ]
     },
     "execution_count": 77,
     "metadata": {},
     "output_type": "execute_result"
    }
   ],
   "source": [
    "len(list(doc.sents))"
   ]
  },
  {
   "cell_type": "code",
   "execution_count": 78,
   "id": "c7848c39",
   "metadata": {},
   "outputs": [
    {
     "data": {
      "text/plain": [
       "spacy.tokens.span.Span"
      ]
     },
     "execution_count": 78,
     "metadata": {},
     "output_type": "execute_result"
    }
   ],
   "source": [
    "type(list(doc.sents)[0])"
   ]
  },
  {
   "cell_type": "code",
   "execution_count": 79,
   "id": "819a594c",
   "metadata": {},
   "outputs": [
    {
     "data": {
      "text/plain": [
       "6"
      ]
     },
     "execution_count": 79,
     "metadata": {},
     "output_type": "execute_result"
    }
   ],
   "source": [
    "(list(doc.sents)[1]).start"
   ]
  },
  {
   "cell_type": "code",
   "execution_count": 80,
   "id": "58793b93",
   "metadata": {},
   "outputs": [
    {
     "data": {
      "text/plain": [
       "11"
      ]
     },
     "execution_count": 80,
     "metadata": {},
     "output_type": "execute_result"
    }
   ],
   "source": [
    "(list(doc.sents)[1]).end"
   ]
  },
  {
   "cell_type": "markdown",
   "id": "e35a56c8",
   "metadata": {},
   "source": [
    "### Add sentence segmentation rule"
   ]
  },
  {
   "cell_type": "code",
   "execution_count": 83,
   "id": "a5220cc8",
   "metadata": {},
   "outputs": [
    {
     "name": "stdout",
     "output_type": "stream",
     "text": [
      "'Management is about doing things right; leadership is about doing right things.' ---\n",
      "Peter Drucken\n"
     ]
    }
   ],
   "source": [
    "doc1=nlp(u\"'Management is about doing things right; leadership is about doing right things.' --- Peter Drucken\")\n",
    "for sent in doc1.sents:\n",
    "    print(sent)"
   ]
  },
  {
   "cell_type": "code",
   "execution_count": 84,
   "id": "a3648cbe",
   "metadata": {},
   "outputs": [],
   "source": [
    "def set_custom_boundary(doc):\n",
    "    for token in doc[:-1]: # to skip the last word\n",
    "        if token.text==';':\n",
    "            doc[token.i+1].is_sent_start=True\n",
    "            \n",
    "    return doc"
   ]
  },
  {
   "cell_type": "code",
   "execution_count": 85,
   "id": "7d33b103",
   "metadata": {},
   "outputs": [
    {
     "data": {
      "text/plain": [
       "['tagger', 'set_custom_boundary', 'parser', 'ner']"
      ]
     },
     "execution_count": 85,
     "metadata": {},
     "output_type": "execute_result"
    }
   ],
   "source": [
    "nlp.add_pipe(set_custom_boundary,before='parser')\n",
    "\n",
    "nlp.pipe_names"
   ]
  },
  {
   "cell_type": "code",
   "execution_count": 87,
   "id": "b95f352e",
   "metadata": {},
   "outputs": [
    {
     "name": "stdout",
     "output_type": "stream",
     "text": [
      "'Management is about doing things right;\n",
      "leadership is about doing right things.' ---\n",
      "Peter Drucken\n"
     ]
    }
   ],
   "source": [
    "doc2=nlp(u\"'Management is about doing things right; leadership is about doing right things.' --- Peter Drucken\")\n",
    "for sent in doc2.sents:\n",
    "    print(sent)"
   ]
  },
  {
   "cell_type": "code",
   "execution_count": null,
   "id": "02ecb177",
   "metadata": {},
   "outputs": [],
   "source": []
  }
 ],
 "metadata": {
  "kernelspec": {
   "display_name": "Python 3 (ipykernel)",
   "language": "python",
   "name": "python3"
  },
  "language_info": {
   "codemirror_mode": {
    "name": "ipython",
    "version": 3
   },
   "file_extension": ".py",
   "mimetype": "text/x-python",
   "name": "python",
   "nbconvert_exporter": "python",
   "pygments_lexer": "ipython3",
   "version": "3.7.16"
  }
 },
 "nbformat": 4,
 "nbformat_minor": 5
}
