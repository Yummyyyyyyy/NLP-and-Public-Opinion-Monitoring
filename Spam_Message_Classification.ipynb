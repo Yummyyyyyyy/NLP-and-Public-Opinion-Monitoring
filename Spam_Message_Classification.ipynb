{
 "cells": [
  {
   "cell_type": "code",
   "execution_count": 1,
   "id": "95cbccc6",
   "metadata": {},
   "outputs": [],
   "source": [
    "import numpy as np\n",
    "import pandas as pd"
   ]
  },
  {
   "cell_type": "code",
   "execution_count": 2,
   "id": "2970fdd4",
   "metadata": {},
   "outputs": [],
   "source": [
    "df=pd.read_csv('SMC-Labeled.csv',encoding='ISO-8859-1')"
   ]
  },
  {
   "cell_type": "code",
   "execution_count": 3,
   "id": "1500b282",
   "metadata": {},
   "outputs": [
    {
     "data": {
      "text/html": [
       "<div>\n",
       "<style scoped>\n",
       "    .dataframe tbody tr th:only-of-type {\n",
       "        vertical-align: middle;\n",
       "    }\n",
       "\n",
       "    .dataframe tbody tr th {\n",
       "        vertical-align: top;\n",
       "    }\n",
       "\n",
       "    .dataframe thead th {\n",
       "        text-align: right;\n",
       "    }\n",
       "</style>\n",
       "<table border=\"1\" class=\"dataframe\">\n",
       "  <thead>\n",
       "    <tr style=\"text-align: right;\">\n",
       "      <th></th>\n",
       "      <th>v1</th>\n",
       "      <th>v2</th>\n",
       "      <th>Unnamed: 2</th>\n",
       "      <th>Unnamed: 3</th>\n",
       "      <th>Unnamed: 4</th>\n",
       "    </tr>\n",
       "  </thead>\n",
       "  <tbody>\n",
       "    <tr>\n",
       "      <th>0</th>\n",
       "      <td>ham</td>\n",
       "      <td>Go until jurong point, crazy.. Available only ...</td>\n",
       "      <td>NaN</td>\n",
       "      <td>NaN</td>\n",
       "      <td>NaN</td>\n",
       "    </tr>\n",
       "    <tr>\n",
       "      <th>1</th>\n",
       "      <td>ham</td>\n",
       "      <td>Ok lar... Joking wif u oni...</td>\n",
       "      <td>NaN</td>\n",
       "      <td>NaN</td>\n",
       "      <td>NaN</td>\n",
       "    </tr>\n",
       "    <tr>\n",
       "      <th>2</th>\n",
       "      <td>spam</td>\n",
       "      <td>Free entry in 2 a wkly comp to win FA Cup fina...</td>\n",
       "      <td>NaN</td>\n",
       "      <td>NaN</td>\n",
       "      <td>NaN</td>\n",
       "    </tr>\n",
       "    <tr>\n",
       "      <th>3</th>\n",
       "      <td>ham</td>\n",
       "      <td>U dun say so early hor... U c already then say...</td>\n",
       "      <td>NaN</td>\n",
       "      <td>NaN</td>\n",
       "      <td>NaN</td>\n",
       "    </tr>\n",
       "    <tr>\n",
       "      <th>4</th>\n",
       "      <td>ham</td>\n",
       "      <td>Nah I don't think he goes to usf, he lives aro...</td>\n",
       "      <td>NaN</td>\n",
       "      <td>NaN</td>\n",
       "      <td>NaN</td>\n",
       "    </tr>\n",
       "  </tbody>\n",
       "</table>\n",
       "</div>"
      ],
      "text/plain": [
       "     v1                                                 v2 Unnamed: 2  \\\n",
       "0   ham  Go until jurong point, crazy.. Available only ...        NaN   \n",
       "1   ham                      Ok lar... Joking wif u oni...        NaN   \n",
       "2  spam  Free entry in 2 a wkly comp to win FA Cup fina...        NaN   \n",
       "3   ham  U dun say so early hor... U c already then say...        NaN   \n",
       "4   ham  Nah I don't think he goes to usf, he lives aro...        NaN   \n",
       "\n",
       "  Unnamed: 3 Unnamed: 4  \n",
       "0        NaN        NaN  \n",
       "1        NaN        NaN  \n",
       "2        NaN        NaN  \n",
       "3        NaN        NaN  \n",
       "4        NaN        NaN  "
      ]
     },
     "execution_count": 3,
     "metadata": {},
     "output_type": "execute_result"
    }
   ],
   "source": [
    "df.head()"
   ]
  },
  {
   "cell_type": "code",
   "execution_count": 4,
   "id": "3433fe0e",
   "metadata": {},
   "outputs": [
    {
     "data": {
      "text/plain": [
       "v1               0\n",
       "v2               0\n",
       "Unnamed: 2    5522\n",
       "Unnamed: 3    5560\n",
       "Unnamed: 4    5566\n",
       "dtype: int64"
      ]
     },
     "execution_count": 4,
     "metadata": {},
     "output_type": "execute_result"
    }
   ],
   "source": [
    "df.isnull().sum()"
   ]
  },
  {
   "cell_type": "code",
   "execution_count": 5,
   "id": "e8e1fc9b",
   "metadata": {},
   "outputs": [],
   "source": [
    "df.drop(columns=['Unnamed: 2','Unnamed: 3','Unnamed: 4'],inplace=True)"
   ]
  },
  {
   "cell_type": "markdown",
   "id": "01b4a20b",
   "metadata": {},
   "source": [
    "**checking if there is empty string**"
   ]
  },
  {
   "cell_type": "code",
   "execution_count": 6,
   "id": "3f2aad8d",
   "metadata": {},
   "outputs": [
    {
     "name": "stdout",
     "output_type": "stream",
     "text": [
      "[]\n"
     ]
    }
   ],
   "source": [
    "blanks=[]\n",
    "for index,v1,v2 in df.itertuples():\n",
    "    if type(v2)==str:\n",
    "        if v2.isspace():\n",
    "            blanks.append(index)\n",
    "\n",
    "print(blanks)"
   ]
  },
  {
   "cell_type": "markdown",
   "id": "09865203",
   "metadata": {},
   "source": [
    "**check the dataset, finding it unbalanced.**"
   ]
  },
  {
   "cell_type": "code",
   "execution_count": 7,
   "id": "3bda84a1",
   "metadata": {},
   "outputs": [
    {
     "data": {
      "text/plain": [
       "ham     4825\n",
       "spam     747\n",
       "Name: v1, dtype: int64"
      ]
     },
     "execution_count": 7,
     "metadata": {},
     "output_type": "execute_result"
    }
   ],
   "source": [
    "df['v1'].value_counts()"
   ]
  },
  {
   "cell_type": "code",
   "execution_count": 8,
   "id": "83e41c4a",
   "metadata": {},
   "outputs": [],
   "source": [
    "X=df['v2']\n",
    "y=df['v1']"
   ]
  },
  {
   "cell_type": "code",
   "execution_count": 9,
   "id": "f9bff539",
   "metadata": {},
   "outputs": [],
   "source": [
    "from sklearn.model_selection import train_test_split\n",
    "X_train, X_test, y_train, y_test = train_test_split(X,y,test_size=0.3,random_state=42)"
   ]
  },
  {
   "cell_type": "code",
   "execution_count": 10,
   "id": "2a30eb1e",
   "metadata": {},
   "outputs": [],
   "source": [
    "import spacy\n",
    "nlp=spacy.load('en_core_web_sm')"
   ]
  },
  {
   "cell_type": "code",
   "execution_count": 11,
   "id": "5f5e8a10",
   "metadata": {},
   "outputs": [],
   "source": [
    "from sklearn.pipeline import Pipeline\n",
    "from sklearn.feature_extraction.text import TfidfVectorizer\n",
    "from sklearn.naive_bayes import MultinomialNB\n",
    "from sklearn.svm import LinearSVC\n",
    "from sklearn.linear_model import LogisticRegression"
   ]
  },
  {
   "cell_type": "code",
   "execution_count": 12,
   "id": "94279015",
   "metadata": {},
   "outputs": [],
   "source": [
    "text_clf_nb=Pipeline([('tfidf',TfidfVectorizer()),('clf',MultinomialNB())])\n",
    "text_clf_svc=Pipeline([('tfidf',TfidfVectorizer()),('clf',LinearSVC())])\n",
    "text_clf_lr=Pipeline([('tfidf',TfidfVectorizer()),('clf',LogisticRegression(solver='lbfgs'))])"
   ]
  },
  {
   "cell_type": "code",
   "execution_count": 13,
   "id": "a718caac",
   "metadata": {},
   "outputs": [
    {
     "data": {
      "text/plain": [
       "Pipeline(steps=[('tfidf', TfidfVectorizer()), ('clf', LogisticRegression())])"
      ]
     },
     "execution_count": 13,
     "metadata": {},
     "output_type": "execute_result"
    }
   ],
   "source": [
    "text_clf_nb.fit(X_train,y_train)\n",
    "text_clf_svc.fit(X_train,y_train)\n",
    "text_clf_lr.fit(X_train,y_train)"
   ]
  },
  {
   "cell_type": "code",
   "execution_count": 14,
   "id": "d413baf8",
   "metadata": {},
   "outputs": [],
   "source": [
    "predictions_nb=text_clf_nb.predict(X_test)\n",
    "predictions_svc=text_clf_svc.predict(X_test)\n",
    "predictions_lr=text_clf_lr.predict(X_test)"
   ]
  },
  {
   "cell_type": "code",
   "execution_count": 15,
   "id": "0235c930",
   "metadata": {},
   "outputs": [],
   "source": [
    "from sklearn.metrics import confusion_matrix,classification_report,accuracy_score"
   ]
  },
  {
   "cell_type": "markdown",
   "id": "812ce64c",
   "metadata": {},
   "source": [
    "### TF-IDF + NB"
   ]
  },
  {
   "cell_type": "code",
   "execution_count": 16,
   "id": "244ae484",
   "metadata": {},
   "outputs": [
    {
     "name": "stdout",
     "output_type": "stream",
     "text": [
      "0.9599282296650717\n"
     ]
    }
   ],
   "source": [
    "print(accuracy_score(y_test,predictions_nb))"
   ]
  },
  {
   "cell_type": "code",
   "execution_count": 17,
   "id": "9117ca0f",
   "metadata": {},
   "outputs": [
    {
     "name": "stdout",
     "output_type": "stream",
     "text": [
      "              precision    recall  f1-score   support\n",
      "\n",
      "         ham       0.96      1.00      0.98      1453\n",
      "        spam       1.00      0.69      0.82       219\n",
      "\n",
      "    accuracy                           0.96      1672\n",
      "   macro avg       0.98      0.85      0.90      1672\n",
      "weighted avg       0.96      0.96      0.96      1672\n",
      "\n"
     ]
    }
   ],
   "source": [
    "print(classification_report(y_test,predictions_nb))"
   ]
  },
  {
   "cell_type": "code",
   "execution_count": 18,
   "id": "a0a34e10",
   "metadata": {},
   "outputs": [
    {
     "name": "stdout",
     "output_type": "stream",
     "text": [
      "[[1453    0]\n",
      " [  67  152]]\n"
     ]
    }
   ],
   "source": [
    "print(confusion_matrix(y_test,predictions_nb))"
   ]
  },
  {
   "cell_type": "markdown",
   "id": "41272758",
   "metadata": {},
   "source": [
    "### TF-IDF + SVM"
   ]
  },
  {
   "cell_type": "code",
   "execution_count": 19,
   "id": "5d0b2b2a",
   "metadata": {},
   "outputs": [
    {
     "name": "stdout",
     "output_type": "stream",
     "text": [
      "0.9832535885167464\n"
     ]
    }
   ],
   "source": [
    "print(accuracy_score(y_test,predictions_svc))"
   ]
  },
  {
   "cell_type": "code",
   "execution_count": 20,
   "id": "0640f613",
   "metadata": {},
   "outputs": [
    {
     "name": "stdout",
     "output_type": "stream",
     "text": [
      "              precision    recall  f1-score   support\n",
      "\n",
      "         ham       0.98      1.00      0.99      1453\n",
      "        spam       0.98      0.89      0.93       219\n",
      "\n",
      "    accuracy                           0.98      1672\n",
      "   macro avg       0.98      0.94      0.96      1672\n",
      "weighted avg       0.98      0.98      0.98      1672\n",
      "\n"
     ]
    }
   ],
   "source": [
    "print(classification_report(y_test,predictions_svc))"
   ]
  },
  {
   "cell_type": "code",
   "execution_count": 21,
   "id": "84723bb4",
   "metadata": {},
   "outputs": [
    {
     "name": "stdout",
     "output_type": "stream",
     "text": [
      "[[1450    3]\n",
      " [  25  194]]\n"
     ]
    }
   ],
   "source": [
    "print(confusion_matrix(y_test,predictions_svc))"
   ]
  },
  {
   "cell_type": "markdown",
   "id": "d493da54",
   "metadata": {},
   "source": [
    "### TF-IDF + LR"
   ]
  },
  {
   "cell_type": "code",
   "execution_count": 22,
   "id": "644d76c5",
   "metadata": {},
   "outputs": [
    {
     "name": "stdout",
     "output_type": "stream",
     "text": [
      "0.9659090909090909\n"
     ]
    }
   ],
   "source": [
    "print(accuracy_score(y_test,predictions_lr))"
   ]
  },
  {
   "cell_type": "code",
   "execution_count": 23,
   "id": "2a3c15f2",
   "metadata": {},
   "outputs": [
    {
     "name": "stdout",
     "output_type": "stream",
     "text": [
      "              precision    recall  f1-score   support\n",
      "\n",
      "         ham       0.96      1.00      0.98      1453\n",
      "        spam       0.99      0.74      0.85       219\n",
      "\n",
      "    accuracy                           0.97      1672\n",
      "   macro avg       0.98      0.87      0.92      1672\n",
      "weighted avg       0.97      0.97      0.96      1672\n",
      "\n"
     ]
    }
   ],
   "source": [
    "print(classification_report(y_test,predictions_lr))"
   ]
  },
  {
   "cell_type": "code",
   "execution_count": 24,
   "id": "02b97d29",
   "metadata": {},
   "outputs": [
    {
     "name": "stdout",
     "output_type": "stream",
     "text": [
      "[[1452    1]\n",
      " [  56  163]]\n"
     ]
    }
   ],
   "source": [
    "print(confusion_matrix(y_test,predictions_lr))"
   ]
  },
  {
   "cell_type": "markdown",
   "id": "1f13ba83",
   "metadata": {},
   "source": [
    "# parameter tunning"
   ]
  },
  {
   "cell_type": "code",
   "execution_count": 25,
   "id": "d9369b5c",
   "metadata": {},
   "outputs": [],
   "source": [
    "from sklearn.model_selection import GridSearchCV"
   ]
  },
  {
   "cell_type": "code",
   "execution_count": null,
   "id": "9d399c36",
   "metadata": {},
   "outputs": [],
   "source": []
  },
  {
   "cell_type": "code",
   "execution_count": null,
   "id": "1a934fd3",
   "metadata": {},
   "outputs": [],
   "source": []
  },
  {
   "cell_type": "markdown",
   "id": "7cb342fc",
   "metadata": {},
   "source": [
    "# imbalance mitigation"
   ]
  },
  {
   "cell_type": "code",
   "execution_count": 34,
   "id": "e8ca3624",
   "metadata": {},
   "outputs": [],
   "source": [
    "ham_balanced=df[df['v1']=='ham']\n",
    "ham_balanced=ham_balanced.reset_index(drop=True)[:1000]\n",
    "spam_balanced=df[df['v1']=='spam']\n",
    "spam_balanced=spam_balanced.reset_index(drop=True)"
   ]
  },
  {
   "cell_type": "code",
   "execution_count": 37,
   "id": "4bf5f471",
   "metadata": {},
   "outputs": [],
   "source": [
    "balanced_data = pd.concat([ham_balanced, spam_balanced]).sample(frac=1).reset_index(drop=True)"
   ]
  },
  {
   "cell_type": "code",
   "execution_count": 38,
   "id": "7014d41a",
   "metadata": {},
   "outputs": [],
   "source": [
    "X=balanced_data['v2']\n",
    "y=balanced_data['v1']"
   ]
  },
  {
   "cell_type": "code",
   "execution_count": 39,
   "id": "1874fc81",
   "metadata": {},
   "outputs": [],
   "source": [
    "X_train, X_test, y_train, y_test = train_test_split(X,y,test_size=0.3,random_state=42)"
   ]
  },
  {
   "cell_type": "code",
   "execution_count": 40,
   "id": "15e0d02b",
   "metadata": {},
   "outputs": [
    {
     "data": {
      "text/plain": [
       "Pipeline(steps=[('tfidf', TfidfVectorizer()), ('clf', LogisticRegression())])"
      ]
     },
     "execution_count": 40,
     "metadata": {},
     "output_type": "execute_result"
    }
   ],
   "source": [
    "text_clf_nb=Pipeline([('tfidf',TfidfVectorizer()),('clf',MultinomialNB())])\n",
    "text_clf_svc=Pipeline([('tfidf',TfidfVectorizer()),('clf',LinearSVC())])\n",
    "text_clf_lr=Pipeline([('tfidf',TfidfVectorizer()),('clf',LogisticRegression(solver='lbfgs'))])\n",
    "text_clf_nb.fit(X_train,y_train)\n",
    "text_clf_svc.fit(X_train,y_train)\n",
    "text_clf_lr.fit(X_train,y_train)"
   ]
  },
  {
   "cell_type": "code",
   "execution_count": 41,
   "id": "a4098373",
   "metadata": {},
   "outputs": [],
   "source": [
    "predictions_nb=text_clf_nb.predict(X_test)\n",
    "predictions_svc=text_clf_svc.predict(X_test)\n",
    "predictions_lr=text_clf_lr.predict(X_test)"
   ]
  },
  {
   "cell_type": "code",
   "execution_count": 42,
   "id": "01ca586b",
   "metadata": {},
   "outputs": [
    {
     "name": "stdout",
     "output_type": "stream",
     "text": [
      "0.9580952380952381\n"
     ]
    }
   ],
   "source": [
    "print(accuracy_score(y_test,predictions_nb))"
   ]
  },
  {
   "cell_type": "code",
   "execution_count": 43,
   "id": "f3772907",
   "metadata": {},
   "outputs": [
    {
     "name": "stdout",
     "output_type": "stream",
     "text": [
      "0.9676190476190476\n"
     ]
    }
   ],
   "source": [
    "print(accuracy_score(y_test,predictions_svc))"
   ]
  },
  {
   "cell_type": "code",
   "execution_count": 44,
   "id": "456f2bb8",
   "metadata": {},
   "outputs": [
    {
     "name": "stdout",
     "output_type": "stream",
     "text": [
      "0.9561904761904761\n"
     ]
    }
   ],
   "source": [
    "print(accuracy_score(y_test,predictions_lr))"
   ]
  },
  {
   "cell_type": "code",
   "execution_count": 45,
   "id": "f19e3bb3",
   "metadata": {},
   "outputs": [
    {
     "name": "stdout",
     "output_type": "stream",
     "text": [
      "[[293   3]\n",
      " [ 19 210]]\n"
     ]
    }
   ],
   "source": [
    "print(confusion_matrix(y_test,predictions_nb))"
   ]
  },
  {
   "cell_type": "code",
   "execution_count": 46,
   "id": "4190e3ce",
   "metadata": {},
   "outputs": [
    {
     "name": "stdout",
     "output_type": "stream",
     "text": [
      "[[290   6]\n",
      " [ 11 218]]\n"
     ]
    }
   ],
   "source": [
    "print(confusion_matrix(y_test,predictions_svc))"
   ]
  },
  {
   "cell_type": "code",
   "execution_count": 47,
   "id": "73d21d81",
   "metadata": {},
   "outputs": [
    {
     "name": "stdout",
     "output_type": "stream",
     "text": [
      "[[291   5]\n",
      " [ 18 211]]\n"
     ]
    }
   ],
   "source": [
    "print(confusion_matrix(y_test,predictions_lr))"
   ]
  },
  {
   "cell_type": "code",
   "execution_count": null,
   "id": "d130496b",
   "metadata": {},
   "outputs": [],
   "source": []
  }
 ],
 "metadata": {
  "kernelspec": {
   "display_name": "Python 3 (ipykernel)",
   "language": "python",
   "name": "python3"
  },
  "language_info": {
   "codemirror_mode": {
    "name": "ipython",
    "version": 3
   },
   "file_extension": ".py",
   "mimetype": "text/x-python",
   "name": "python",
   "nbconvert_exporter": "python",
   "pygments_lexer": "ipython3",
   "version": "3.9.13"
  }
 },
 "nbformat": 4,
 "nbformat_minor": 5
}
